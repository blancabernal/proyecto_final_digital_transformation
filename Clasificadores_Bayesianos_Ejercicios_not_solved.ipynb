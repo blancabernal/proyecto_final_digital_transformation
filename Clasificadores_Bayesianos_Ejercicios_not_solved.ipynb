{
  "nbformat": 4,
  "nbformat_minor": 0,
  "metadata": {
    "colab": {
      "name": "Clasificadores Bayesianos - Ejercicios - not solved.ipynb",
      "private_outputs": true,
      "provenance": [],
      "collapsed_sections": [],
      "include_colab_link": true
    },
    "kernelspec": {
      "name": "python3",
      "display_name": "Python 3"
    },
    "language_info": {
      "name": "python"
    }
  },
  "cells": [
    {
      "cell_type": "markdown",
      "metadata": {
        "id": "view-in-github",
        "colab_type": "text"
      },
      "source": [
        "<a href=\"https://colab.research.google.com/github/blancabernal/proyecto_final_digital_transformation/blob/main/Clasificadores_Bayesianos_Ejercicios_not_solved.ipynb\" target=\"_parent\"><img src=\"https://colab.research.google.com/assets/colab-badge.svg\" alt=\"Open In Colab\"/></a>"
      ]
    },
    {
      "cell_type": "markdown",
      "metadata": {
        "id": "CZ13Qfs1D04e"
      },
      "source": [
        "# Ejercicio 1- Clasificador Bayesiano Simple"
      ]
    },
    {
      "cell_type": "markdown",
      "metadata": {
        "id": "FscIz_HQD0wg"
      },
      "source": [
        "Vamos a generar un modelo que clasifica a los pacientes como diabéticos en base a sus niveles de glucosa y a su presión sanguinea"
      ]
    },
    {
      "cell_type": "markdown",
      "metadata": {
        "id": "oojrWvOiEKKg"
      },
      "source": [
        "### Imports and settings"
      ]
    },
    {
      "cell_type": "code",
      "metadata": {
        "id": "vv6FsICyDuPO"
      },
      "source": [
        "import pandas as pd\n",
        "from sklearn.model_selection import train_test_split\n",
        "from sklearn.naive_bayes import GaussianNB\n",
        "from sklearn.metrics import accuracy_score\n",
        "from sklearn.metrics import classification_report"
      ],
      "execution_count": null,
      "outputs": []
    },
    {
      "cell_type": "markdown",
      "metadata": {
        "id": "TBs9bLa7EGAh"
      },
      "source": [
        "### Database"
      ]
    },
    {
      "cell_type": "markdown",
      "metadata": {
        "id": "zPLvViS8E3EP"
      },
      "source": [
        "Autenticación"
      ]
    },
    {
      "cell_type": "code",
      "metadata": {
        "id": "34NynJt3EM4v"
      },
      "source": [
        "!pip install -U -q PyDrive\n",
        "from pydrive.auth import GoogleAuth\n",
        "from pydrive.drive import GoogleDrive\n",
        "from google.colab import auth\n",
        "from oauth2client.client import GoogleCredentials\n",
        " \n",
        "auth.authenticate_user()\n",
        "gauth = GoogleAuth()\n",
        "gauth.credentials = GoogleCredentials.get_application_default()\n",
        "drive = GoogleDrive(gauth)"
      ],
      "execution_count": null,
      "outputs": []
    },
    {
      "cell_type": "markdown",
      "metadata": {
        "id": "xgdKCNHsE7IY"
      },
      "source": [
        "Descargar el recurso"
      ]
    },
    {
      "cell_type": "code",
      "metadata": {
        "id": "_Zwe9NS7EbfD"
      },
      "source": [
        "data_id = \"1gUk5LE-ku7TWtiizbKc-p481Ganiyqyh\"\n",
        "data_downloaded = drive.CreateFile({'id':data_id}) \n",
        "data_downloaded.GetContentFile('Naive-Bayes-Classification-Data.csv')"
      ],
      "execution_count": null,
      "outputs": []
    },
    {
      "cell_type": "markdown",
      "metadata": {
        "id": "CASuxlLPE9Zq"
      },
      "source": [
        "### Instrucciones"
      ]
    },
    {
      "cell_type": "markdown",
      "metadata": {
        "id": "QTSU57r5E_d-"
      },
      "source": [
        "Leer el fichero que se encuentra en la ruta: /content/Naive-Bayes-Classification-Data.csv"
      ]
    },
    {
      "cell_type": "code",
      "metadata": {
        "id": "HM3Tul3GEggB"
      },
      "source": [
        "df = pd.read_csv(\"/content/Naive-Bayes-Classification-Data.csv\")"
      ],
      "execution_count": null,
      "outputs": []
    },
    {
      "cell_type": "markdown",
      "source": [
        "Imprimir las primeras 10 filas"
      ],
      "metadata": {
        "id": "JBFitE2XN3QZ"
      }
    },
    {
      "cell_type": "code",
      "metadata": {
        "id": "tP7y3nHCor1Z"
      },
      "source": [
        "df.head(10)"
      ],
      "execution_count": null,
      "outputs": []
    },
    {
      "cell_type": "markdown",
      "metadata": {
        "id": "8XkEqZJAFCog"
      },
      "source": [
        "Segmentar los datos en variables independientes (X) y dependientes (y), la variable dependiente es 'diabetes'"
      ]
    },
    {
      "cell_type": "code",
      "metadata": {
        "id": "JGz9oyqzMDfN"
      },
      "source": [
        ""
      ],
      "execution_count": null,
      "outputs": []
    },
    {
      "cell_type": "markdown",
      "source": [
        "Segmentar los datos en train y test."
      ],
      "metadata": {
        "id": "fNq_WZ-POqRb"
      }
    },
    {
      "cell_type": "code",
      "source": [
        ""
      ],
      "metadata": {
        "id": "thWOkkyLLAal"
      },
      "execution_count": null,
      "outputs": []
    },
    {
      "cell_type": "markdown",
      "source": [
        "Escalar los datos de entrenamientos y testeo."
      ],
      "metadata": {
        "id": "docaem0tOzCI"
      }
    },
    {
      "cell_type": "code",
      "source": [
        ""
      ],
      "metadata": {
        "id": "ByLY1dyYO3xj"
      },
      "execution_count": null,
      "outputs": []
    },
    {
      "cell_type": "markdown",
      "metadata": {
        "id": "93RSvmmvFG8n"
      },
      "source": [
        "Crear el modelo"
      ]
    },
    {
      "cell_type": "code",
      "metadata": {
        "id": "fx2jZHhSFGCL"
      },
      "source": [
        ""
      ],
      "execution_count": null,
      "outputs": []
    },
    {
      "cell_type": "markdown",
      "metadata": {
        "id": "GgOeJgJMFLbW"
      },
      "source": [
        "Entrenar"
      ]
    },
    {
      "cell_type": "code",
      "metadata": {
        "id": "dMs02q4KFKlp"
      },
      "source": [
        ""
      ],
      "execution_count": null,
      "outputs": []
    },
    {
      "cell_type": "markdown",
      "metadata": {
        "id": "GwRiAa27FRlu"
      },
      "source": [
        "Generar predicciones sobre el dataset de testeo."
      ]
    },
    {
      "cell_type": "code",
      "metadata": {
        "id": "WPQ54r8JFQQP"
      },
      "source": [
        ""
      ],
      "execution_count": null,
      "outputs": []
    },
    {
      "cell_type": "markdown",
      "metadata": {
        "id": "vsScAZxIFWXm"
      },
      "source": [
        "Evaluar los resultados"
      ]
    },
    {
      "cell_type": "code",
      "metadata": {
        "id": "fhErA-PjFVX6"
      },
      "source": [
        ""
      ],
      "execution_count": null,
      "outputs": []
    },
    {
      "cell_type": "markdown",
      "metadata": {
        "id": "of176gi1Fys1"
      },
      "source": [
        "# Ejercicio 2. Multinomial"
      ]
    },
    {
      "cell_type": "markdown",
      "metadata": {
        "id": "deuWG06TF4V8"
      },
      "source": [
        "Crear un modelo que clasifique vinos en más de dos categorías."
      ]
    },
    {
      "cell_type": "markdown",
      "metadata": {
        "id": "zYg-hbfLGMLM"
      },
      "source": [
        "Importamos los datos"
      ]
    },
    {
      "cell_type": "code",
      "metadata": {
        "id": "sEcHqb_dFmJ_"
      },
      "source": [
        "import numpy as np\n",
        "import pandas as pd\n",
        "from sklearn.naive_bayes import MultinomialNB\n",
        "\n",
        "df_wine = pd.read_csv('https://archive.ics.uci.edu/ml/machine-learning-databases/wine/wine.data', header=None)\n",
        "df_wine.columns = ['Class label', 'Alcohol', 'Malic Acid', 'Ash', 'Alcalinity of ash', 'Magnesium', 'Total phenols', 'Flavanoids', 'Nonflavanoid phenols', 'Proanthocyanins', 'Color intensity', 'Hue', 'OD280/OD315 of diluted wines', 'Proline']"
      ],
      "execution_count": null,
      "outputs": []
    },
    {
      "cell_type": "markdown",
      "source": [
        "Verificar primeras 10 líneas"
      ],
      "metadata": {
        "id": "LO9d4IaZ0St9"
      }
    },
    {
      "cell_type": "code",
      "metadata": {
        "id": "N_orE9tKNasf"
      },
      "source": [
        "df_wine.head(10)"
      ],
      "execution_count": null,
      "outputs": []
    },
    {
      "cell_type": "markdown",
      "metadata": {
        "id": "K_4yCJvFGfyT"
      },
      "source": [
        "Segmentar el dataset en características y target"
      ]
    },
    {
      "cell_type": "code",
      "metadata": {
        "id": "tfQ62TH2GGWf"
      },
      "source": [
        ""
      ],
      "execution_count": null,
      "outputs": []
    },
    {
      "cell_type": "markdown",
      "metadata": {
        "id": "9RSmU6mqGmOs"
      },
      "source": [
        "Segmentar el dataset en train y test set."
      ]
    },
    {
      "cell_type": "code",
      "metadata": {
        "id": "r4w1NroqGZVP"
      },
      "source": [
        ""
      ],
      "execution_count": null,
      "outputs": []
    },
    {
      "cell_type": "markdown",
      "metadata": {
        "id": "ciDav2-QGryr"
      },
      "source": [
        "Crear un clasificador multinomial y entrenar el modelo"
      ]
    },
    {
      "cell_type": "code",
      "metadata": {
        "id": "qrApcd6nGvDk"
      },
      "source": [
        ""
      ],
      "execution_count": null,
      "outputs": []
    },
    {
      "cell_type": "markdown",
      "metadata": {
        "id": "e7zM9UNyGyL0"
      },
      "source": [
        "Generar predicciones"
      ]
    },
    {
      "cell_type": "code",
      "metadata": {
        "id": "2rXBbRgFGwDP"
      },
      "source": [
        ""
      ],
      "execution_count": null,
      "outputs": []
    },
    {
      "cell_type": "markdown",
      "metadata": {
        "id": "DafaJaILHHr9"
      },
      "source": [
        "Evaluar el modelo"
      ]
    },
    {
      "cell_type": "code",
      "metadata": {
        "id": "ZHYPK5FiGz4Y"
      },
      "source": [
        ""
      ],
      "execution_count": null,
      "outputs": []
    },
    {
      "cell_type": "markdown",
      "metadata": {
        "id": "iAkkucK9HOBt"
      },
      "source": [
        "# Ejercicio 3. Multinomial avanzado"
      ]
    },
    {
      "cell_type": "markdown",
      "metadata": {
        "id": "FTZulcuVHR1V"
      },
      "source": [
        "Crear un modelo utilizando el dataset 20NewsGroup para categorizar las noticias en 20 tópicos distintos de acuerdo al contenido del texto."
      ]
    },
    {
      "cell_type": "markdown",
      "metadata": {
        "id": "pZoCEi_qIJyQ"
      },
      "source": [
        "Importar librerías"
      ]
    },
    {
      "cell_type": "code",
      "metadata": {
        "id": "gygPgyEBHLU_"
      },
      "source": [
        "from sklearn.feature_extraction.text import CountVectorizer\n",
        "from sklearn.naive_bayes import MultinomialNB"
      ],
      "execution_count": null,
      "outputs": []
    },
    {
      "cell_type": "markdown",
      "metadata": {
        "id": "abhB0BkxINUj"
      },
      "source": [
        "Datos"
      ]
    },
    {
      "cell_type": "code",
      "metadata": {
        "id": "lGicou63IMph"
      },
      "source": [
        "from sklearn.datasets import fetch_20newsgroups\n",
        "# https://scikit-learn.org/stable/modules/generated/sklearn.datasets.fetch_20newsgroups.html\n",
        "data = fetch_20newsgroups()\n",
        "data.target_names"
      ],
      "execution_count": null,
      "outputs": []
    },
    {
      "cell_type": "markdown",
      "source": [
        "Segmentar el dataset en características y target"
      ],
      "metadata": {
        "id": "9ClQE568iBhL"
      }
    },
    {
      "cell_type": "code",
      "metadata": {
        "id": "zALVp5QIO_Nw"
      },
      "source": [
        ""
      ],
      "execution_count": null,
      "outputs": []
    },
    {
      "cell_type": "markdown",
      "metadata": {
        "id": "djAsSYMOIRI5"
      },
      "source": [
        "Segmentar en train y test"
      ]
    },
    {
      "cell_type": "code",
      "metadata": {
        "id": "6DwwOHGNIO5b"
      },
      "source": [
        ""
      ],
      "execution_count": null,
      "outputs": []
    },
    {
      "cell_type": "markdown",
      "metadata": {
        "id": "S_cRhWwKITlq"
      },
      "source": [
        "Entrenar"
      ]
    },
    {
      "cell_type": "code",
      "metadata": {
        "id": "rvZDIpBgIS9i"
      },
      "source": [
        ""
      ],
      "execution_count": null,
      "outputs": []
    },
    {
      "cell_type": "markdown",
      "metadata": {
        "id": "NB5ygOsyIZLi"
      },
      "source": [
        "Evaluar"
      ]
    },
    {
      "cell_type": "code",
      "metadata": {
        "id": "m3JCabrXJxhD"
      },
      "source": [
        ""
      ],
      "execution_count": null,
      "outputs": []
    },
    {
      "cell_type": "markdown",
      "metadata": {
        "id": "suAsFnp_Isrc"
      },
      "source": [
        "Predecir"
      ]
    },
    {
      "cell_type": "code",
      "metadata": {
        "id": "sy1UlfQGIb40"
      },
      "source": [
        ""
      ],
      "execution_count": null,
      "outputs": []
    }
  ]
}